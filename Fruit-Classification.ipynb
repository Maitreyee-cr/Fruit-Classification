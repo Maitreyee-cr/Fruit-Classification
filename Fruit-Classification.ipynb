{
  "cells": [
    {
      "cell_type": "code",
      "execution_count": null,
      "metadata": {
        "id": "NMu7ClJUse8w"
      },
      "outputs": [],
      "source": [
        "import numpy as np\n",
        "import pandas as pd\n",
        "import tensorflow as tf\n",
        "from tensorflow.keras.models import Sequential\n",
        "from tensorflow.keras.layers import Dense, BatchNormalization,Dropout,Flatten,Conv2D,MaxPooling2D\n",
        "from tensorflow.keras.layers import SeparableConv2D, BatchNormalization, GlobalAveragePooling2D\n",
        "from sklearn.model_selection import train_test_split\n",
        "import cv2\n",
        "import zipfile\n",
        "import os\n",
        "from matplotlib import pyplot as plt\n",
        "import random\n",
        "import seaborn as sns\n",
        "from tensorflow.keras.preprocessing.image import ImageDataGenerator\n",
        "from sklearn.preprocessing import LabelEncoder\n",
        "from collections import Counter\n",
        "import matplotlib.image as mpimg\n",
        "\n",
        "from tensorflow.keras.optimizers import RMSprop, Adam\n",
        "from imblearn.over_sampling import SMOTE\n",
        "from keras.models import Model\n",
        "\n",
        "from sklearn.model_selection import train_test_split"
      ]
    },
    {
      "cell_type": "code",
      "execution_count": null,
      "metadata": {
        "colab": {
          "base_uri": "https://localhost:8080/"
        },
        "id": "3SANZKwruxd1",
        "outputId": "56658177-9f87-4656-89d2-6086a63baa83"
      },
      "outputs": [
        {
          "output_type": "stream",
          "name": "stdout",
          "text": [
            "Drive already mounted at /content/drive; to attempt to forcibly remount, call drive.mount(\"/content/drive\", force_remount=True).\n"
          ]
        }
      ],
      "source": [
        "from google.colab import drive\n",
        "drive.mount('/content/drive')"
      ]
    },
    {
      "cell_type": "code",
      "execution_count": null,
      "metadata": {
        "colab": {
          "base_uri": "https://localhost:8080/",
          "height": 36
        },
        "id": "vvXb0QrSs6qx",
        "outputId": "024f36c2-af04-456c-d8f6-aa3732375532"
      },
      "outputs": [
        {
          "output_type": "execute_result",
          "data": {
            "text/plain": [
              "'/content/drive/MyDrive/fruit_classification/data/train/train/'"
            ],
            "application/vnd.google.colaboratory.intrinsic+json": {
              "type": "string"
            }
          },
          "metadata": {},
          "execution_count": 16
        }
      ],
      "source": [
        "train_set = '/content/drive/MyDrive/fruit_classification/data/train/train/'\n",
        "train_set"
      ]
    },
    {
      "cell_type": "code",
      "execution_count": null,
      "metadata": {
        "id": "vJKP7a6JtHlP"
      },
      "outputs": [],
      "source": [
        "from keras.preprocessing.image import ImageDataGenerator\n",
        "\n",
        "train_datagen = ImageDataGenerator(rescale = 1./255,\n",
        "                                   rotation_range = 45,\n",
        "                                   horizontal_flip=True,\n",
        "                                   shear_range = 0.3,validation_split=0.2,\n",
        "                                   zoom_range = 0.3)"
      ]
    },
    {
      "cell_type": "code",
      "execution_count": null,
      "metadata": {
        "colab": {
          "base_uri": "https://localhost:8080/"
        },
        "id": "FS54uomjtJA7",
        "outputId": "b0d5d915-6777-4bf8-8f71-1bce8ab8c3d9"
      },
      "outputs": [
        {
          "output_type": "stream",
          "name": "stdout",
          "text": [
            "Found 1942 images belonging to 5 classes.\n",
            "Found 484 images belonging to 5 classes.\n"
          ]
        }
      ],
      "source": [
        "train_data = train_datagen.flow_from_directory(train_set,\n",
        "                                              target_size = (100, 100),\n",
        "                                              class_mode = 'categorical', batch_size = 64, subset=\"training\")\n",
        "\n",
        "valid_data = train_datagen.flow_from_directory(train_set,\n",
        "                                              target_size = (100, 100),\n",
        "                                              class_mode = 'categorical', batch_size = 64, subset=\"validation\")"
      ]
    },
    {
      "cell_type": "code",
      "execution_count": null,
      "metadata": {
        "id": "qSASPqLYtPp2"
      },
      "outputs": [],
      "source": [
        "from tensorflow.keras.applications.vgg16 import VGG16\n",
        "vgg16 = VGG16(input_shape = (100,100, 3), weights = 'imagenet', include_top = False)"
      ]
    },
    {
      "cell_type": "code",
      "execution_count": null,
      "metadata": {
        "id": "ekx7TNNNtZjQ"
      },
      "outputs": [],
      "source": [
        "# Don't train the existing weights\n",
        "\n",
        "for layer in vgg16.layers:\n",
        "  layer.trainable = False"
      ]
    },
    {
      "cell_type": "code",
      "execution_count": null,
      "metadata": {
        "id": "zk4ZtAGatdm-"
      },
      "outputs": [],
      "source": [
        "# Fully Connected Layers\n",
        "\n",
        "flatten = Flatten()(vgg16.output)\n",
        "\n",
        "dense = Dense(256, activation = 'relu')(flatten)\n",
        "dense = Dropout(0.5)(dense)\n",
        "dense = Dense(100, activation = 'relu')(dense)\n",
        "dense = Dropout(0.3)(dense)\n",
        "\n",
        "# Output Layer\n",
        "prediction = Dense(5, activation = 'softmax')(dense)"
      ]
    },
    {
      "cell_type": "code",
      "execution_count": null,
      "metadata": {
        "id": "BJpRz08WuAUA"
      },
      "outputs": [],
      "source": [
        "model = Model(inputs = vgg16.input, outputs = prediction)"
      ]
    },
    {
      "cell_type": "code",
      "execution_count": null,
      "metadata": {
        "colab": {
          "base_uri": "https://localhost:8080/"
        },
        "id": "BfqGJoNQuBwB",
        "outputId": "3a14b0db-e144-46d1-a557-a7a32bb6b454"
      },
      "outputs": [
        {
          "output_type": "stream",
          "name": "stdout",
          "text": [
            "Model: \"model_1\"\n",
            "_________________________________________________________________\n",
            " Layer (type)                Output Shape              Param #   \n",
            "=================================================================\n",
            " input_2 (InputLayer)        [(None, 100, 100, 3)]     0         \n",
            "                                                                 \n",
            " block1_conv1 (Conv2D)       (None, 100, 100, 64)      1792      \n",
            "                                                                 \n",
            " block1_conv2 (Conv2D)       (None, 100, 100, 64)      36928     \n",
            "                                                                 \n",
            " block1_pool (MaxPooling2D)  (None, 50, 50, 64)        0         \n",
            "                                                                 \n",
            " block2_conv1 (Conv2D)       (None, 50, 50, 128)       73856     \n",
            "                                                                 \n",
            " block2_conv2 (Conv2D)       (None, 50, 50, 128)       147584    \n",
            "                                                                 \n",
            " block2_pool (MaxPooling2D)  (None, 25, 25, 128)       0         \n",
            "                                                                 \n",
            " block3_conv1 (Conv2D)       (None, 25, 25, 256)       295168    \n",
            "                                                                 \n",
            " block3_conv2 (Conv2D)       (None, 25, 25, 256)       590080    \n",
            "                                                                 \n",
            " block3_conv3 (Conv2D)       (None, 25, 25, 256)       590080    \n",
            "                                                                 \n",
            " block3_pool (MaxPooling2D)  (None, 12, 12, 256)       0         \n",
            "                                                                 \n",
            " block4_conv1 (Conv2D)       (None, 12, 12, 512)       1180160   \n",
            "                                                                 \n",
            " block4_conv2 (Conv2D)       (None, 12, 12, 512)       2359808   \n",
            "                                                                 \n",
            " block4_conv3 (Conv2D)       (None, 12, 12, 512)       2359808   \n",
            "                                                                 \n",
            " block4_pool (MaxPooling2D)  (None, 6, 6, 512)         0         \n",
            "                                                                 \n",
            " block5_conv1 (Conv2D)       (None, 6, 6, 512)         2359808   \n",
            "                                                                 \n",
            " block5_conv2 (Conv2D)       (None, 6, 6, 512)         2359808   \n",
            "                                                                 \n",
            " block5_conv3 (Conv2D)       (None, 6, 6, 512)         2359808   \n",
            "                                                                 \n",
            " block5_pool (MaxPooling2D)  (None, 3, 3, 512)         0         \n",
            "                                                                 \n",
            " flatten_1 (Flatten)         (None, 4608)              0         \n",
            "                                                                 \n",
            " dense_3 (Dense)             (None, 256)               1179904   \n",
            "                                                                 \n",
            " dropout_2 (Dropout)         (None, 256)               0         \n",
            "                                                                 \n",
            " dense_4 (Dense)             (None, 100)               25700     \n",
            "                                                                 \n",
            " dropout_3 (Dropout)         (None, 100)               0         \n",
            "                                                                 \n",
            " dense_5 (Dense)             (None, 5)                 505       \n",
            "                                                                 \n",
            "=================================================================\n",
            "Total params: 15920797 (60.73 MB)\n",
            "Trainable params: 1206109 (4.60 MB)\n",
            "Non-trainable params: 14714688 (56.13 MB)\n",
            "_________________________________________________________________\n"
          ]
        }
      ],
      "source": [
        "model.summary()"
      ]
    },
    {
      "cell_type": "code",
      "execution_count": null,
      "metadata": {
        "id": "_EhqiP1JuNtS"
      },
      "outputs": [],
      "source": [
        "model.compile(loss = 'categorical_crossentropy', metrics = ['accuracy'], optimizer='adam')"
      ]
    },
    {
      "cell_type": "code",
      "execution_count": null,
      "metadata": {
        "colab": {
          "base_uri": "https://localhost:8080/"
        },
        "id": "Yynx5qoTuU4L",
        "outputId": "0a3c4cce-bb40-4ec6-b3ab-cd04e0c16f91"
      },
      "outputs": [
        {
          "metadata": {
            "tags": null
          },
          "name": "stderr",
          "output_type": "stream",
          "text": [
            "<ipython-input-25-5c39e155f334>:2: UserWarning: `Model.fit_generator` is deprecated and will be removed in a future version. Please use `Model.fit`, which supports generators.\n",
            "  history = model.fit_generator(train_data,validation_data=valid_data,epochs=15)\n"
          ]
        },
        {
          "output_type": "stream",
          "name": "stdout",
          "text": [
            "Epoch 1/15\n",
            "31/31 [==============================] - 333s 11s/step - loss: 0.4605 - accuracy: 0.8167 - val_loss: 0.0272 - val_accuracy: 0.9938\n",
            "Epoch 2/15\n",
            "31/31 [==============================] - 301s 10s/step - loss: 0.0533 - accuracy: 0.9835 - val_loss: 0.0087 - val_accuracy: 0.9959\n",
            "Epoch 3/15\n",
            "31/31 [==============================] - 301s 10s/step - loss: 0.0313 - accuracy: 0.9918 - val_loss: 0.0066 - val_accuracy: 0.9979\n",
            "Epoch 4/15\n",
            "31/31 [==============================] - 271s 9s/step - loss: 0.0293 - accuracy: 0.9912 - val_loss: 3.6731e-04 - val_accuracy: 1.0000\n",
            "Epoch 5/15\n",
            "31/31 [==============================] - 270s 9s/step - loss: 0.0127 - accuracy: 0.9954 - val_loss: 6.2042e-04 - val_accuracy: 1.0000\n",
            "Epoch 6/15\n",
            "31/31 [==============================] - 297s 10s/step - loss: 0.0134 - accuracy: 0.9974 - val_loss: 5.8751e-04 - val_accuracy: 1.0000\n",
            "Epoch 7/15\n",
            "31/31 [==============================] - 272s 9s/step - loss: 0.0081 - accuracy: 0.9990 - val_loss: 0.0056 - val_accuracy: 0.9979\n",
            "Epoch 8/15\n",
            "31/31 [==============================] - 301s 10s/step - loss: 0.0220 - accuracy: 0.9954 - val_loss: 9.6791e-04 - val_accuracy: 1.0000\n",
            "Epoch 9/15\n",
            "31/31 [==============================] - 299s 10s/step - loss: 0.0061 - accuracy: 0.9990 - val_loss: 7.0203e-05 - val_accuracy: 1.0000\n",
            "Epoch 10/15\n",
            "31/31 [==============================] - 298s 10s/step - loss: 0.0067 - accuracy: 0.9985 - val_loss: 1.3774e-05 - val_accuracy: 1.0000\n",
            "Epoch 11/15\n",
            "31/31 [==============================] - 297s 10s/step - loss: 0.0045 - accuracy: 0.9990 - val_loss: 2.9042e-05 - val_accuracy: 1.0000\n",
            "Epoch 12/15\n",
            "31/31 [==============================] - 297s 10s/step - loss: 0.0033 - accuracy: 0.9995 - val_loss: 1.6484e-05 - val_accuracy: 1.0000\n",
            "Epoch 13/15\n",
            "31/31 [==============================] - 296s 10s/step - loss: 0.0086 - accuracy: 0.9974 - val_loss: 2.0315e-05 - val_accuracy: 1.0000\n",
            "Epoch 14/15\n",
            "31/31 [==============================] - 293s 9s/step - loss: 0.0074 - accuracy: 0.9974 - val_loss: 4.8395e-05 - val_accuracy: 1.0000\n",
            "Epoch 15/15\n",
            "31/31 [==============================] - 298s 10s/step - loss: 0.0036 - accuracy: 0.9990 - val_loss: 0.0105 - val_accuracy: 0.9979\n"
          ]
        }
      ],
      "source": [
        "# Fit the model\n",
        "history = model.fit_generator(train_data,validation_data=valid_data,epochs=15)"
      ]
    },
    {
      "cell_type": "code",
      "execution_count": null,
      "metadata": {
        "colab": {
          "base_uri": "https://localhost:8080/"
        },
        "id": "N2jMzp0p4QHv",
        "outputId": "373d98c1-3b55-4ae9-931c-338087e9882f"
      },
      "outputs": [
        {
          "output_type": "stream",
          "name": "stdout",
          "text": [
            "Drive already mounted at /content/drive; to attempt to forcibly remount, call drive.mount(\"/content/drive\", force_remount=True).\n",
            "1/1 [==============================] - 0s 406ms/step\n",
            "Predicted Fruit Class: Watermelon\n"
          ]
        }
      ],
      "source": [
        "from tensorflow.keras.preprocessing import image\n",
        "from tensorflow.keras.applications.vgg16 import preprocess_input\n",
        "import numpy as np\n",
        "\n",
        "# Load the test image\n",
        "from google.colab import drive\n",
        "drive.mount('/content/drive')\n",
        "test_img_path = '/content/drive/MyDrive/fruit_classification/data/testimg.png'\n",
        "img = image.load_img(test_img_path, target_size=(100, 100))\n",
        "\n",
        "# Preprocess the image\n",
        "img_array = image.img_to_array(img)\n",
        "img_array = np.expand_dims(img_array, axis=0)\n",
        "img_array = preprocess_input(img_array)\n",
        "\n",
        "# Make predictions\n",
        "predictions = model.predict(img_array)\n",
        "\n",
        "# Get the predicted class index\n",
        "predicted_class_index = np.argmax(predictions[0])\n",
        "\n",
        "# Map the index to the class label\n",
        "class_labels = train_data.class_indices\n",
        "inv_class_labels = {v: k for k, v in class_labels.items()}\n",
        "predicted_class_label = inv_class_labels[predicted_class_index]\n",
        "\n",
        "print(\"Predicted Fruit Class:\", predicted_class_label)"
      ]
    },
    {
      "cell_type": "code",
      "execution_count": null,
      "metadata": {
        "id": "Syae110D4SBT",
        "colab": {
          "base_uri": "https://localhost:8080/"
        },
        "outputId": "3e2342a1-0f17-4b8b-add8-d0850c1a321c"
      },
      "outputs": [
        {
          "output_type": "stream",
          "name": "stdout",
          "text": [
            "1/1 [==============================] - 0s 245ms/step\n"
          ]
        }
      ],
      "source": [
        "# Make predictions\n",
        "predictions = model.predict(img_array)\n",
        "predicted_class_index = tf.argmax(predictions[0]).numpy()"
      ]
    },
    {
      "cell_type": "code",
      "execution_count": null,
      "metadata": {
        "id": "gzeAF5Yj4fnr"
      },
      "outputs": [],
      "source": [
        "# Get the predicted class name\n",
        "predicted_class_name = inv_class_labels[predicted_class_index]\n",
        "\n",
        "print(\"Predicted Fruit Class:\", predicted_class_name)"
      ]
    }
  ],
  "metadata": {
    "colab": {
      "provenance": []
    },
    "kernelspec": {
      "display_name": "Python 3",
      "name": "python3"
    },
    "language_info": {
      "name": "python"
    }
  },
  "nbformat": 4,
  "nbformat_minor": 0
}